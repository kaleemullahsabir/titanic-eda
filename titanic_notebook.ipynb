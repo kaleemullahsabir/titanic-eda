{
 "cells": [
  {
   "cell_type": "code",
   "execution_count": 1,
   "id": "53c5eab7-ac08-4ed2-a588-b8666e796e1a",
   "metadata": {},
   "outputs": [],
   "source": [
    "# --- 0. Install & Import libraries ---\n",
    "# Run this cell if libraries are missing\n",
    "import sys\n",
    "!{sys.executable} -m pip install pandas numpy matplotlib seaborn scikit-learn missingno --quiet\n",
    "\n",
    "%matplotlib inline\n",
    "import pandas as pd\n",
    "import numpy as np\n",
    "import matplotlib.pyplot as plt\n",
    "import seaborn as sns\n",
    "import missingno as msno\n",
    "import os\n",
    "\n",
    "# Display & plot settings\n",
    "pd.options.display.max_columns = 50\n",
    "sns.set(style='whitegrid', context='notebook')\n",
    "plt.rcParams['figure.dpi'] = 110\n",
    "plt.rcParams['font.size'] = 11\n",
    "\n",
    "# Create folder for figures\n",
    "os.makedirs('figures', exist_ok=True)\n",
    "\n"
   ]
  },
  {
   "cell_type": "markdown",
   "id": "666f32a7-9c67-4b50-9ee6-c58342065a48",
   "metadata": {},
   "source": [
    "# **1. Objective**\n",
    "- Explore the Kaggle Titanic dataset\n",
    "- Clean the data\n",
    "- Create new features\n",
    "- Inspect survival patterns (Sex, Class, Age, Family)\n",
    "- Visualize key patterns & correlations\n",
    "- Train simple predictive models (Logistic Regression / Random Forest)\n",
    "- Save outputs: cleaned CSV, annotated figures, key findings\n"
   ]
  },
  {
   "cell_type": "code",
   "execution_count": 2,
   "id": "26e5602f-5740-4f57-b73f-5c1b5e42b24d",
   "metadata": {},
   "outputs": [
    {
     "name": "stdout",
     "output_type": "stream",
     "text": [
      "Loaded: train.csv\n"
     ]
    },
    {
     "data": {
      "text/html": [
       "<div>\n",
       "<style scoped>\n",
       "    .dataframe tbody tr th:only-of-type {\n",
       "        vertical-align: middle;\n",
       "    }\n",
       "\n",
       "    .dataframe tbody tr th {\n",
       "        vertical-align: top;\n",
       "    }\n",
       "\n",
       "    .dataframe thead th {\n",
       "        text-align: right;\n",
       "    }\n",
       "</style>\n",
       "<table border=\"1\" class=\"dataframe\">\n",
       "  <thead>\n",
       "    <tr style=\"text-align: right;\">\n",
       "      <th></th>\n",
       "      <th>PassengerId</th>\n",
       "      <th>Survived</th>\n",
       "      <th>Pclass</th>\n",
       "      <th>Name</th>\n",
       "      <th>Sex</th>\n",
       "      <th>Age</th>\n",
       "      <th>SibSp</th>\n",
       "      <th>Parch</th>\n",
       "      <th>Ticket</th>\n",
       "      <th>Fare</th>\n",
       "      <th>Cabin</th>\n",
       "      <th>Embarked</th>\n",
       "    </tr>\n",
       "  </thead>\n",
       "  <tbody>\n",
       "    <tr>\n",
       "      <th>0</th>\n",
       "      <td>1</td>\n",
       "      <td>0</td>\n",
       "      <td>3</td>\n",
       "      <td>Braund, Mr. Owen Harris</td>\n",
       "      <td>male</td>\n",
       "      <td>22.0</td>\n",
       "      <td>1</td>\n",
       "      <td>0</td>\n",
       "      <td>A/5 21171</td>\n",
       "      <td>7.2500</td>\n",
       "      <td>NaN</td>\n",
       "      <td>S</td>\n",
       "    </tr>\n",
       "    <tr>\n",
       "      <th>1</th>\n",
       "      <td>2</td>\n",
       "      <td>1</td>\n",
       "      <td>1</td>\n",
       "      <td>Cumings, Mrs. John Bradley (Florence Briggs Th...</td>\n",
       "      <td>female</td>\n",
       "      <td>38.0</td>\n",
       "      <td>1</td>\n",
       "      <td>0</td>\n",
       "      <td>PC 17599</td>\n",
       "      <td>71.2833</td>\n",
       "      <td>C85</td>\n",
       "      <td>C</td>\n",
       "    </tr>\n",
       "    <tr>\n",
       "      <th>2</th>\n",
       "      <td>3</td>\n",
       "      <td>1</td>\n",
       "      <td>3</td>\n",
       "      <td>Heikkinen, Miss. Laina</td>\n",
       "      <td>female</td>\n",
       "      <td>26.0</td>\n",
       "      <td>0</td>\n",
       "      <td>0</td>\n",
       "      <td>STON/O2. 3101282</td>\n",
       "      <td>7.9250</td>\n",
       "      <td>NaN</td>\n",
       "      <td>S</td>\n",
       "    </tr>\n",
       "    <tr>\n",
       "      <th>3</th>\n",
       "      <td>4</td>\n",
       "      <td>1</td>\n",
       "      <td>1</td>\n",
       "      <td>Futrelle, Mrs. Jacques Heath (Lily May Peel)</td>\n",
       "      <td>female</td>\n",
       "      <td>35.0</td>\n",
       "      <td>1</td>\n",
       "      <td>0</td>\n",
       "      <td>113803</td>\n",
       "      <td>53.1000</td>\n",
       "      <td>C123</td>\n",
       "      <td>S</td>\n",
       "    </tr>\n",
       "    <tr>\n",
       "      <th>4</th>\n",
       "      <td>5</td>\n",
       "      <td>0</td>\n",
       "      <td>3</td>\n",
       "      <td>Allen, Mr. William Henry</td>\n",
       "      <td>male</td>\n",
       "      <td>35.0</td>\n",
       "      <td>0</td>\n",
       "      <td>0</td>\n",
       "      <td>373450</td>\n",
       "      <td>8.0500</td>\n",
       "      <td>NaN</td>\n",
       "      <td>S</td>\n",
       "    </tr>\n",
       "  </tbody>\n",
       "</table>\n",
       "</div>"
      ],
      "text/plain": [
       "   PassengerId  Survived  Pclass  \\\n",
       "0            1         0       3   \n",
       "1            2         1       1   \n",
       "2            3         1       3   \n",
       "3            4         1       1   \n",
       "4            5         0       3   \n",
       "\n",
       "                                                Name     Sex   Age  SibSp  \\\n",
       "0                            Braund, Mr. Owen Harris    male  22.0      1   \n",
       "1  Cumings, Mrs. John Bradley (Florence Briggs Th...  female  38.0      1   \n",
       "2                             Heikkinen, Miss. Laina  female  26.0      0   \n",
       "3       Futrelle, Mrs. Jacques Heath (Lily May Peel)  female  35.0      1   \n",
       "4                           Allen, Mr. William Henry    male  35.0      0   \n",
       "\n",
       "   Parch            Ticket     Fare Cabin Embarked  \n",
       "0      0         A/5 21171   7.2500   NaN        S  \n",
       "1      0          PC 17599  71.2833   C85        C  \n",
       "2      0  STON/O2. 3101282   7.9250   NaN        S  \n",
       "3      0            113803  53.1000  C123        S  \n",
       "4      0            373450   8.0500   NaN        S  "
      ]
     },
     "execution_count": 2,
     "metadata": {},
     "output_type": "execute_result"
    }
   ],
   "source": [
    "# --- 2. Load data ---\n",
    "DATA_PATH = 'train.csv'\n",
    "try:\n",
    "    df = pd.read_csv(DATA_PATH)\n",
    "    print(\"Loaded:\", DATA_PATH)\n",
    "except FileNotFoundError:\n",
    "    print(\"train.csv not found in current folder. Put train.csv in notebook folder or provide full path.\")\n",
    "    raise\n",
    "\n",
    "df.head()\n"
   ]
  },
  {
   "cell_type": "code",
   "execution_count": 3,
   "id": "588d3801-b515-4543-af0c-1dc5f4bc7ed5",
   "metadata": {},
   "outputs": [
    {
     "name": "stdout",
     "output_type": "stream",
     "text": [
      "<class 'pandas.core.frame.DataFrame'>\n",
      "RangeIndex: 891 entries, 0 to 890\n",
      "Data columns (total 12 columns):\n",
      " #   Column       Non-Null Count  Dtype  \n",
      "---  ------       --------------  -----  \n",
      " 0   PassengerId  891 non-null    int64  \n",
      " 1   Survived     891 non-null    int64  \n",
      " 2   Pclass       891 non-null    int64  \n",
      " 3   Name         891 non-null    object \n",
      " 4   Sex          891 non-null    object \n",
      " 5   Age          714 non-null    float64\n",
      " 6   SibSp        891 non-null    int64  \n",
      " 7   Parch        891 non-null    int64  \n",
      " 8   Ticket       891 non-null    object \n",
      " 9   Fare         891 non-null    float64\n",
      " 10  Cabin        204 non-null    object \n",
      " 11  Embarked     889 non-null    object \n",
      "dtypes: float64(2), int64(5), object(5)\n",
      "memory usage: 83.7+ KB\n"
     ]
    },
    {
     "data": {
      "image/png": "[encoded data removed]",
      "text/plain": [
       "<Figure size 1100x330 with 1 Axes>"
      ]
     },
     "metadata": {},
     "output_type": "display_data"
    },
    {
     "data": {
      "text/plain": [
       "<Axes: >"
      ]
     },
     "execution_count": 3,
     "metadata": {},
     "output_type": "execute_result"
    },
    {
     "data": {
      "image/png": "[encoded data removed]",
      "text/plain": [
       "<Figure size 1100x330 with 2 Axes>"
      ]
     },
     "metadata": {},
     "output_type": "display_data"
    }
   ],
   "source": [
    "# Quick data info\n",
    "df.shape\n",
    "df.info()\n",
    "df.describe(include='all').T\n",
    "df.isnull().sum().sort_values(ascending=False)\n",
    "\n",
    "# Visualize missing values\n",
    "plt.figure(figsize=(10,3))\n",
    "sns.heatmap(df.isnull(), cbar=False, yticklabels=False)\n",
    "plt.title('Missing values map')\n",
    "plt.show()\n",
    "\n",
    "msno.matrix(df, figsize=(10,3))\n"
   ]
  },
  {
   "cell_type": "markdown",
   "id": "9156c011-7455-4378-8fc5-31b8c170668d",
   "metadata": {},
   "source": [
    "# **3. Data Cleaning**\n",
    "- Fill missing values\n",
    "- Convert types\n",
    "- Extract features\n"
   ]
  },
  {
   "cell_type": "code",
   "execution_count": 4,
   "id": "89be9b2b-3f2b-4c12-b573-f47add6e8b22",
   "metadata": {},
   "outputs": [
    {
     "name": "stdout",
     "output_type": "stream",
     "text": [
      "<class 'pandas.core.frame.DataFrame'>\n",
      "RangeIndex: 891 entries, 0 to 890\n",
      "Data columns (total 4 columns):\n",
      " #   Column    Non-Null Count  Dtype   \n",
      "---  ------    --------------  -----   \n",
      " 0   Age       891 non-null    float64 \n",
      " 1   Fare      891 non-null    float64 \n",
      " 2   Embarked  891 non-null    object  \n",
      " 3   Deck      891 non-null    category\n",
      "dtypes: category(1), float64(2), object(1)\n",
      "memory usage: 22.2+ KB\n"
     ]
    }
   ],
   "source": [
    "# Work on a copy\n",
    "data = df.copy()\n",
    "\n",
    "# Pclass as categorical\n",
    "data['Pclass'] = data['Pclass'].astype('category')\n",
    "\n",
    "# Fill missing Embarked & Fare\n",
    "data['Embarked'] = data['Embarked'].fillna(data['Embarked'].mode()[0])\n",
    "data['Fare'] = data['Fare'].fillna(data['Fare'].median())\n",
    "\n",
    "# Age imputation: median by Sex + Pclass\n",
    "age_median_by_group = data.groupby(['Sex', 'Pclass'], observed=False)['Age'].transform('median')\n",
    "data['Age'] = data['Age'].fillna(age_median_by_group)\n",
    "\n",
    "# Deck extraction from Cabin\n",
    "data['Deck'] = data['Cabin'].str.get(0).fillna('U').astype('category')\n",
    "\n",
    "# Family features\n",
    "data['FamilySize'] = data['SibSp'] + data['Parch'] + 1\n",
    "data['IsAlone'] = (data['FamilySize'] == 1).astype(int)\n",
    "\n",
    "# Title extraction & normalization\n",
    "data['Title'] = data['Name'].str.extract(r' ([A-Za-z]+)\\.', expand=False)\n",
    "data['Title'] = data['Title'].replace({\n",
    "    'Mlle':'Miss','Ms':'Miss','Mme':'Mrs',\n",
    "    'Lady':'Rare','Countess':'Rare','Capt':'Rare','Col':'Rare','Don':'Rare','Dr':'Rare',\n",
    "    'Major':'Rare','Rev':'Rare','Sir':'Rare','Jonkheer':'Rare','Dona':'Rare'\n",
    "})\n",
    "data['Title'] = data['Title'].astype('category')\n",
    "\n",
    "# Sex binary for modeling\n",
    "data['Sex_code'] = data['Sex'].map({'male':0,'female':1})\n",
    "\n",
    "# Verify no remaining missing\n",
    "data[['Age','Fare','Embarked','Deck']].info()\n"
   ]
  },
  {
   "cell_type": "markdown",
   "id": "608161c5-c925-4464-8ee2-00218b0bdb10",
   "metadata": {},
   "source": [
    "# **4. Exploratory Data Analysis (EDA)**\n"
   ]
  },
  {
   "cell_type": "code",
   "execution_count": 5,
   "id": "fc3a65ef-13cd-495a-bd85-6d3e7319dc6b",
   "metadata": {},
   "outputs": [
    {
     "name": "stdout",
     "output_type": "stream",
     "text": [
      "Overall survival rate: 38.38%\n",
      "\n",
      "Survival by Sex:\n",
      " Sex\n",
      "female    74.20%\n",
      "male      18.89%\n",
      "Name: Survived, dtype: object\n",
      "\n",
      "Survival by Pclass:\n",
      " Pclass\n",
      "1    62.96%\n",
      "2    47.28%\n",
      "3    24.24%\n",
      "Name: Survived, dtype: object\n",
      "\n",
      "Survival by Title:\n",
      " Title\n",
      "Master    57.50%\n",
      "Miss      70.27%\n",
      "Mr        15.67%\n",
      "Mrs       79.37%\n",
      "Rare      34.78%\n",
      "Name: Survived, dtype: object\n",
      "\n",
      "Survival by IsAlone:\n",
      " IsAlone\n",
      "0    50.56%\n",
      "1    30.35%\n",
      "Name: Survived, dtype: object\n"
     ]
    }
   ],
   "source": [
    "# Overall survival\n",
    "overall_survival = data['Survived'].mean()\n",
    "print(f\"Overall survival rate: {overall_survival:.2%}\")\n",
    "\n",
    "# Survival by Sex, Pclass, Title, IsAlone\n",
    "for col in ['Sex','Pclass','Title','IsAlone']:\n",
    "    print(f\"\\nSurvival by {col}:\\n\", data.groupby(col, observed=False)['Survived'].mean().map(\"{:.2%}\".format))\n"
   ]
  },
  {
   "cell_type": "code",
   "execution_count": 6,
   "id": "23fade51-1056-4590-b9d4-10e1219bd90e",
   "metadata": {},
   "outputs": [
    {
     "data": {
      "text/html": [
       "<div>\n",
       "<style scoped>\n",
       "    .dataframe tbody tr th:only-of-type {\n",
       "        vertical-align: middle;\n",
       "    }\n",
       "\n",
       "    .dataframe tbody tr th {\n",
       "        vertical-align: top;\n",
       "    }\n",
       "\n",
       "    .dataframe thead th {\n",
       "        text-align: right;\n",
       "    }\n",
       "</style>\n",
       "<table border=\"1\" class=\"dataframe\">\n",
       "  <thead>\n",
       "    <tr style=\"text-align: right;\">\n",
       "      <th>Sex</th>\n",
       "      <th>female</th>\n",
       "      <th>male</th>\n",
       "    </tr>\n",
       "    <tr>\n",
       "      <th>Pclass</th>\n",
       "      <th></th>\n",
       "      <th></th>\n",
       "    </tr>\n",
       "  </thead>\n",
       "  <tbody>\n",
       "    <tr>\n",
       "      <th>1</th>\n",
       "      <td>0.968085</td>\n",
       "      <td>0.368852</td>\n",
       "    </tr>\n",
       "    <tr>\n",
       "      <th>2</th>\n",
       "      <td>0.921053</td>\n",
       "      <td>0.157407</td>\n",
       "    </tr>\n",
       "    <tr>\n",
       "      <th>3</th>\n",
       "      <td>0.500000</td>\n",
       "      <td>0.135447</td>\n",
       "    </tr>\n",
       "  </tbody>\n",
       "</table>\n",
       "</div>"
      ],
      "text/plain": [
       "Sex       female      male\n",
       "Pclass                    \n",
       "1       0.968085  0.368852\n",
       "2       0.921053  0.157407\n",
       "3       0.500000  0.135447"
      ]
     },
     "execution_count": 6,
     "metadata": {},
     "output_type": "execute_result"
    }
   ],
   "source": [
    "# Pivot: Pclass x Sex\n",
    "survival_pivot = data.pivot_table(index='Pclass', columns='Sex', values='Survived', aggfunc='mean', observed=False)\n",
    "survival_pivot\n"
   ]
  },
  {
   "cell_type": "code",
   "execution_count": 7,
   "id": "f56f61bb-7b00-4b7f-83ae-2587980f09ce",
   "metadata": {},
   "outputs": [],
   "source": [
    "# Visualizations\n",
    "def annotate_bars(ax, fmt=\"{:.0f}\", offset=4):\n",
    "    for p in ax.patches:\n",
    "        x = p.get_x() + p.get_width() / 2\n",
    "        y = p.get_height()\n",
    "        ax.annotate(fmt.format(y if fmt != \"{:.1%}\" else y),\n",
    "                    (x, y), ha='center', va='bottom', xytext=(0, offset),\n",
    "                    textcoords='offset points', fontsize=10)\n",
    "\n",
    "# Survival by Sex (counts)\n",
    "plt.figure(figsize=(7,4))\n",
    "ax = sns.countplot(x='Survived', hue='Sex', data=data)\n",
    "ax.set_xticks([0,1])\n",
    "ax.set_xticklabels(['Died','Survived'])\n",
    "for p in ax.patches:\n",
    "    ax.annotate(int(p.get_height()), \n",
    "                (p.get_x() + p.get_width()/2., p.get_height()),\n",
    "                ha='center', va='bottom', xytext=(0,4), textcoords='offset points', fontsize=9)\n",
    "plt.title('Survival Count by Sex')\n",
    "plt.tight_layout()\n",
    "plt.savefig('figures/survival_by_sex.png', dpi=300, bbox_inches='tight')\n",
    "plt.close()\n"
   ]
  },
  {
   "cell_type": "code",
   "execution_count": 8,
   "id": "41558122-1277-433a-99e6-b42e42a787be",
   "metadata": {},
   "outputs": [],
   "source": [
    "# Survival by Pclass\n",
    "survival_by_class = data.groupby('Pclass', observed=False)['Survived'].mean().sort_index()\n",
    "plt.figure(figsize=(6,4))\n",
    "ax = sns.barplot(x=survival_by_class.index.astype(str), y=survival_by_class.values)\n",
    "ax.set_xlabel('Pclass'); ax.set_ylabel('Survival Rate'); ax.set_ylim(0,1)\n",
    "for i, v in enumerate(survival_by_class.values):\n",
    "    ax.text(i, v + 0.03, f\"{v:.1%}\", ha='center', fontsize=10)\n",
    "plt.title('Survival Rate by Passenger Class')\n",
    "plt.tight_layout()\n",
    "plt.savefig('figures/survival_by_pclass.png', dpi=300, bbox_inches='tight')\n",
    "plt.close()\n"
   ]
  },
  {
   "cell_type": "code",
   "execution_count": 9,
   "id": "f68cf8e1-d821-4aa1-975b-1ef3c944ec51",
   "metadata": {},
   "outputs": [],
   "source": [
    "# Pclass x Sex heatmap\n",
    "plt.figure(figsize=(6,3))\n",
    "sns.heatmap(survival_pivot, annot=True, fmt='.2f', cmap='YlGnBu')\n",
    "plt.title('Survival Rate by Pclass and Sex')\n",
    "plt.tight_layout()\n",
    "plt.savefig('figures/heatmap_pclass_sex.png', dpi=300, bbox_inches='tight')\n",
    "plt.close()\n"
   ]
  },
  {
   "cell_type": "code",
   "execution_count": 10,
   "id": "211d6dc6-8941-4f97-95e5-5953917db453",
   "metadata": {},
   "outputs": [],
   "source": [
    "# Numeric correlation\n",
    "num_cols = ['Survived','Pclass','Age','SibSp','Parch','Fare','FamilySize','IsAlone','Sex_code']\n",
    "corr = data[num_cols].corr()\n",
    "plt.figure(figsize=(8,6))\n",
    "sns.heatmap(corr, annot=True, fmt='.2f', cmap='coolwarm', center=0)\n",
    "plt.title('Correlation (numeric features)')\n",
    "plt.tight_layout()\n",
    "plt.savefig('figures/correlation_numeric.png', dpi=300, bbox_inches='tight')\n",
    "plt.close()\n"
   ]
  },
  {
   "cell_type": "code",
   "execution_count": 11,
   "id": "fa250a68-c26a-44c5-adf2-a69ceda2ba3d",
   "metadata": {},
   "outputs": [],
   "source": [
    "# Age distribution by survival\n",
    "plt.figure(figsize=(8,4))\n",
    "sns.boxplot(x='Survived', y='Age', data=data)\n",
    "plt.xticks([0,1], ['Died','Survived'])\n",
    "plt.title('Age Distribution by Survival')\n",
    "plt.tight_layout()\n",
    "plt.savefig('figures/age_by_survival.png', dpi=300, bbox_inches='tight')\n",
    "plt.close()\n"
   ]
  },
  {
   "cell_type": "code",
   "execution_count": 12,
   "id": "0fb23e33-4e85-43d8-a352-f39e8e7c93bc",
   "metadata": {},
   "outputs": [],
   "source": [
    "# Log transform Fare\n",
    "data['Fare_log'] = np.log1p(data['Fare'])\n",
    "plt.figure(figsize=(8,3))\n",
    "sns.histplot(data['Fare_log'], bins=40, kde=False)\n",
    "plt.title('Log-transformed Fare distribution')\n",
    "plt.tight_layout()\n",
    "plt.savefig('figures/fare_log_distribution.png', dpi=300, bbox_inches='tight')\n",
    "plt.close()\n"
   ]
  },
  {
   "cell_type": "markdown",
   "id": "a6ae6011-2bc7-4600-a045-fd60d71cd1bb",
   "metadata": {},
   "source": [
    "# **5. Feature Engineering**\n",
    "- Age bins\n",
    "- Deck, Title already created\n",
    "- Family features already created\n"
   ]
  },
  {
   "cell_type": "code",
   "execution_count": 13,
   "id": "c9524887-868e-43df-b2d1-0df4600174b9",
   "metadata": {},
   "outputs": [],
   "source": [
    "# Age bins\n",
    "data['AgeBin'] = pd.cut(data['Age'], bins=[0,12,20,40,60,100], labels=['Child','Teen','Adult','MidAge','Senior'])\n"
   ]
  },
  {
   "cell_type": "code",
   "execution_count": 14,
   "id": "c733a4be-ddf6-42dc-b13b-2d88d444ed98",
   "metadata": {},
   "outputs": [
    {
     "name": "stdout",
     "output_type": "stream",
     "text": [
      "Saved titanic_cleaned.csv\n",
      "Saved summary to titanic_key_findings.txt\n"
     ]
    }
   ],
   "source": [
    "# --- 6. Save cleaned data & summary ---\n",
    "data.to_csv('titanic_cleaned.csv', index=False)\n",
    "print(\"Saved titanic_cleaned.csv\")\n",
    "\n",
    "# Optional: Key findings text file\n",
    "with open('titanic_key_findings.txt','w', encoding='utf-8') as f:\n",
    "    f.write(\"Key findings (computed)\\n\\n\")\n",
    "    f.write(f\"Overall survival: {overall_survival:.2%}\\n\")\n",
    "    for col in ['Sex','Pclass','Title','IsAlone']:\n",
    "        grp = data.groupby(col, observed=False)['Survived'].mean()\n",
    "        f.write(f\"\\n{col}:\\n\")\n",
    "        for idx,val in grp.items():\n",
    "            f.write(f\"  {idx}: {val:.2%}\\n\")\n",
    "print(\"Saved summary to titanic_key_findings.txt\")\n"
   ]
  },
  {
   "cell_type": "markdown",
   "id": "485d83d6-e799-4143-a03c-f48268397a22",
   "metadata": {},
   "source": [
    "# **7. Model Training**\n",
    "- Logistic Regression & Random Forest example\n"
   ]
  },
  {
   "cell_type": "code",
   "execution_count": 15,
   "id": "fa297820-f96a-4e5d-824c-f00c35839f4e",
   "metadata": {},
   "outputs": [
    {
     "name": "stdout",
     "output_type": "stream",
     "text": [
      "Logistic Regression Accuracy: 0.8268156424581006\n",
      "              precision    recall  f1-score   support\n",
      "\n",
      "           0       0.83      0.89      0.86       105\n",
      "           1       0.82      0.74      0.78        74\n",
      "\n",
      "    accuracy                           0.83       179\n",
      "   macro avg       0.83      0.81      0.82       179\n",
      "weighted avg       0.83      0.83      0.83       179\n",
      "\n",
      "Random Forest Accuracy: 0.8100558659217877\n",
      "Feature importances:\n",
      " Fare          0.303041\n",
      "Sex_code      0.273516\n",
      "Age           0.261265\n",
      "Pclass        0.084576\n",
      "FamilySize    0.077602\n",
      "dtype: float64\n"
     ]
    }
   ],
   "source": [
    "from sklearn.model_selection import train_test_split\n",
    "from sklearn.linear_model import LogisticRegression\n",
    "from sklearn.ensemble import RandomForestClassifier\n",
    "from sklearn.metrics import accuracy_score, classification_report\n",
    "\n",
    "# Features & target\n",
    "model_df = data[['Survived','Pclass','Sex_code','Age','Fare','FamilySize']].dropna()\n",
    "X = model_df[['Pclass','Sex_code','Age','Fare','FamilySize']].copy()\n",
    "y = model_df['Survived']\n",
    "\n",
    "# Train/test split\n",
    "X_train, X_test, y_train, y_test = train_test_split(X, y, test_size=0.2, random_state=42)\n",
    "\n",
    "# Logistic Regression\n",
    "clf_lr = LogisticRegression(max_iter=1000)\n",
    "clf_lr.fit(X_train, y_train)\n",
    "pred_lr = clf_lr.predict(X_test)\n",
    "print(\"Logistic Regression Accuracy:\", accuracy_score(y_test, pred_lr))\n",
    "print(classification_report(y_test, pred_lr))\n",
    "\n",
    "# Random Forest\n",
    "clf_rf = RandomForestClassifier(n_estimators=200, random_state=42)\n",
    "clf_rf.fit(X_train, y_train)\n",
    "pred_rf = clf_rf.predict(X_test)\n",
    "print(\"Random Forest Accuracy:\", accuracy_score(y_test, pred_rf))\n",
    "\n",
    "# Feature importances\n",
    "importances = pd.Series(clf_rf.feature_importances_, index=X.columns).sort_values(ascending=False)\n",
    "print(\"Feature importances:\\n\", importances)\n"
   ]
  },
  {
   "cell_type": "markdown",
   "id": "cf707f10-01c2-4178-a513-bca37fee0e49",
   "metadata": {},
   "source": [
    "# ✅ **8. Notebook Summary**\n",
    "**Dataset:** Kaggle Titanic train.csv  \n",
    "**Environment:** Python 3.x, pandas, seaborn, matplotlib, scikit-learn\n",
    "\n",
    "**Steps:**\n",
    "1. Data cleaning: Age imputation, fill missing, extract Deck & Title\n",
    "2. Feature engineering: FamilySize, IsAlone, AgeBin, Title categories\n",
    "3. EDA & visualizations: survival by Sex, Pclass, Title, Age; correlations; boxplots\n",
    "4. Saved cleaned dataset & 6+ annotated figures\n",
    "5. Model training: Logistic Regression & Random Forest, feature importance\n",
    "6. Key findings summary saved to text file\n"
   ]
  }
 ],
 "metadata": {
  "kernelspec": {
   "display_name": "Python 3 (ipykernel)",
   "language": "python",
   "name": "python3"
  },
  "language_info": {
   "codemirror_mode": {
    "name": "ipython",
    "version": 3
   },
   "file_extension": ".py",
   "mimetype": "text/x-python",
   "name": "python",
   "nbconvert_exporter": "python",
   "pygments_lexer": "ipython3",
   "version": "3.12.6"
  }
 },
 "nbformat": 4,
 "nbformat_minor": 5
}
